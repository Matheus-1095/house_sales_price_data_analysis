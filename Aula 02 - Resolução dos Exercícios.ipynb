{
 "cells": [
  {
   "cell_type": "markdown",
   "metadata": {},
   "source": [
    "# Aula 03 - Resolução dos Exercícios\n",
    "\n",
    "## Novas perguntas do CEO\n",
    "\n",
    "1. Crie uma nova coluna chamada \"house_age\".\n",
    "    - Se o valor da coluna \"date\" for maior que \"2014-01-01\" ==> \"new_house\"\n",
    "    - Se o valor da coluna \"date\" for menor que \"2014-01-01\" ==> \"old_house\"\n",
    "\n",
    "2. Crie uma nova coluna chamada \"dormitory_type\".\n",
    "    - Se o valor da coluna \"bedrooms\" for igual a 1 ==> \"studio\"\n",
    "    - Se o valor da coluna \"bedrooms\" for igual a 2 ==> \"apartment\"\n",
    "    - Se o valor da coluna \"bedrooms\" for maior que 2 ==> \"house\"\n",
    "    \n",
    "3. Crie uma nova coluna chamada \"condition_type\".\n",
    "    - Se o valor da coluna \"condition\" for menor igual 2 ==> \"bad\"\n",
    "    - Se o valor da coluna \"condition\" for igual a 3 ou 4 ==> \"regular\"\n",
    "    - Se o valor da coluna \"condition\" for maior que 5 ==> \"good\"\n",
    "    \n",
    "4. Modifique o TIPO da coluna \"condition\" para \"STRING\".\n",
    "\n",
    "5. Delete as colunas: \"sqft_living\" e \"sqft_lot15\".\n",
    "\n",
    "6. Modifique o TIPO da coluna \"yr_build\" para DATE.\n",
    "\n",
    "7. Modifique o TIPO da coluna \"yr_renovate\" para DATE.\n",
    "\n",
    "8. Qual a data mais antiga de construção de um imóvel?\n",
    "\n",
    "9. Qual a data mais antiga de renovação de um imóvel?\n",
    "\n",
    "10. Quantos imóveis tem 2 andares?\n",
    "\n",
    "11. Quantos imóveis estão com a condição igual a \"regular\"?\n",
    "\n",
    "12. Quantos imóveis estão com a condição igual a \"bad\" e são \"new_house\"?\n",
    "\n",
    "13. Quantos imóveis estão com a condição igual a \"good\" e são \"new_house\"?\n",
    "\n",
    "14. Qual o valor do imóvel mais caro do tipo \"Studio\"?\n",
    "\n",
    "15. Quantos imóveis do tipo \"apartment\" foram reformados em 2015?\n",
    "\n",
    "16. Qual o maior número de quartos que um imóvel do tipo \"house\" possui?\n",
    "\n",
    "17. Quantos imóveis \"new house\" foram reformados no ano de 2014?\n",
    "\n",
    "18. Selecione as colunas: \"id\", \"date\", \"price\", \"floors\", \"zipcode\" pelo método:\n",
    "    - Direto pelo nome das colunas\n",
    "    - Pelos índices\n",
    "    - Pelos índices das linhas e nome das colunas\n",
    "    - Pelos índices booleanos\n",
    "19. Salve um arquivo .csv com somente as colunas do item 18\n",
    "20. Modifique a cor dos pontos no mapa de \"pink\" para \"black green\""
   ]
  },
  {
   "cell_type": "markdown",
   "metadata": {},
   "source": [
    "### 0. Loading Data"
   ]
  },
  {
   "cell_type": "code",
   "execution_count": 1,
   "metadata": {},
   "outputs": [],
   "source": [
    "import pandas as pd\n",
    "import numpy as np\n",
    "import plotly\n",
    "import plotly.express as px"
   ]
  },
  {
   "cell_type": "code",
   "execution_count": 2,
   "metadata": {},
   "outputs": [],
   "source": [
    "df = pd.read_csv('kc_house_data.csv', low_memory=False, delimiter=',', quotechar='\"')\n",
    "df['date'] = pd.to_datetime(df['date'], format='%Y-%m-%d')"
   ]
  },
  {
   "cell_type": "code",
   "execution_count": 3,
   "metadata": {},
   "outputs": [
    {
     "data": {
      "text/html": [
       "<div>\n",
       "<style scoped>\n",
       "    .dataframe tbody tr th:only-of-type {\n",
       "        vertical-align: middle;\n",
       "    }\n",
       "\n",
       "    .dataframe tbody tr th {\n",
       "        vertical-align: top;\n",
       "    }\n",
       "\n",
       "    .dataframe thead th {\n",
       "        text-align: right;\n",
       "    }\n",
       "</style>\n",
       "<table border=\"1\" class=\"dataframe\">\n",
       "  <thead>\n",
       "    <tr style=\"text-align: right;\">\n",
       "      <th></th>\n",
       "      <th>id</th>\n",
       "      <th>date</th>\n",
       "      <th>price</th>\n",
       "      <th>bedrooms</th>\n",
       "      <th>bathrooms</th>\n",
       "      <th>sqft_living</th>\n",
       "      <th>sqft_lot</th>\n",
       "      <th>floors</th>\n",
       "      <th>waterfront</th>\n",
       "      <th>view</th>\n",
       "      <th>...</th>\n",
       "      <th>grade</th>\n",
       "      <th>sqft_above</th>\n",
       "      <th>sqft_basement</th>\n",
       "      <th>yr_built</th>\n",
       "      <th>yr_renovated</th>\n",
       "      <th>zipcode</th>\n",
       "      <th>lat</th>\n",
       "      <th>long</th>\n",
       "      <th>sqft_living15</th>\n",
       "      <th>sqft_lot15</th>\n",
       "    </tr>\n",
       "  </thead>\n",
       "  <tbody>\n",
       "    <tr>\n",
       "      <th>0</th>\n",
       "      <td>7129300520</td>\n",
       "      <td>2014-10-13</td>\n",
       "      <td>221900.0</td>\n",
       "      <td>3</td>\n",
       "      <td>1.00</td>\n",
       "      <td>1180</td>\n",
       "      <td>5650</td>\n",
       "      <td>1.0</td>\n",
       "      <td>0</td>\n",
       "      <td>0</td>\n",
       "      <td>...</td>\n",
       "      <td>7</td>\n",
       "      <td>1180</td>\n",
       "      <td>0</td>\n",
       "      <td>1955</td>\n",
       "      <td>0</td>\n",
       "      <td>98178</td>\n",
       "      <td>47.5112</td>\n",
       "      <td>-122.257</td>\n",
       "      <td>1340</td>\n",
       "      <td>5650</td>\n",
       "    </tr>\n",
       "    <tr>\n",
       "      <th>1</th>\n",
       "      <td>6414100192</td>\n",
       "      <td>2014-12-09</td>\n",
       "      <td>538000.0</td>\n",
       "      <td>3</td>\n",
       "      <td>2.25</td>\n",
       "      <td>2570</td>\n",
       "      <td>7242</td>\n",
       "      <td>2.0</td>\n",
       "      <td>0</td>\n",
       "      <td>0</td>\n",
       "      <td>...</td>\n",
       "      <td>7</td>\n",
       "      <td>2170</td>\n",
       "      <td>400</td>\n",
       "      <td>1951</td>\n",
       "      <td>1991</td>\n",
       "      <td>98125</td>\n",
       "      <td>47.7210</td>\n",
       "      <td>-122.319</td>\n",
       "      <td>1690</td>\n",
       "      <td>7639</td>\n",
       "    </tr>\n",
       "    <tr>\n",
       "      <th>2</th>\n",
       "      <td>5631500400</td>\n",
       "      <td>2015-02-25</td>\n",
       "      <td>180000.0</td>\n",
       "      <td>2</td>\n",
       "      <td>1.00</td>\n",
       "      <td>770</td>\n",
       "      <td>10000</td>\n",
       "      <td>1.0</td>\n",
       "      <td>0</td>\n",
       "      <td>0</td>\n",
       "      <td>...</td>\n",
       "      <td>6</td>\n",
       "      <td>770</td>\n",
       "      <td>0</td>\n",
       "      <td>1933</td>\n",
       "      <td>0</td>\n",
       "      <td>98028</td>\n",
       "      <td>47.7379</td>\n",
       "      <td>-122.233</td>\n",
       "      <td>2720</td>\n",
       "      <td>8062</td>\n",
       "    </tr>\n",
       "    <tr>\n",
       "      <th>3</th>\n",
       "      <td>2487200875</td>\n",
       "      <td>2014-12-09</td>\n",
       "      <td>604000.0</td>\n",
       "      <td>4</td>\n",
       "      <td>3.00</td>\n",
       "      <td>1960</td>\n",
       "      <td>5000</td>\n",
       "      <td>1.0</td>\n",
       "      <td>0</td>\n",
       "      <td>0</td>\n",
       "      <td>...</td>\n",
       "      <td>7</td>\n",
       "      <td>1050</td>\n",
       "      <td>910</td>\n",
       "      <td>1965</td>\n",
       "      <td>0</td>\n",
       "      <td>98136</td>\n",
       "      <td>47.5208</td>\n",
       "      <td>-122.393</td>\n",
       "      <td>1360</td>\n",
       "      <td>5000</td>\n",
       "    </tr>\n",
       "    <tr>\n",
       "      <th>4</th>\n",
       "      <td>1954400510</td>\n",
       "      <td>2015-02-18</td>\n",
       "      <td>510000.0</td>\n",
       "      <td>3</td>\n",
       "      <td>2.00</td>\n",
       "      <td>1680</td>\n",
       "      <td>8080</td>\n",
       "      <td>1.0</td>\n",
       "      <td>0</td>\n",
       "      <td>0</td>\n",
       "      <td>...</td>\n",
       "      <td>8</td>\n",
       "      <td>1680</td>\n",
       "      <td>0</td>\n",
       "      <td>1987</td>\n",
       "      <td>0</td>\n",
       "      <td>98074</td>\n",
       "      <td>47.6168</td>\n",
       "      <td>-122.045</td>\n",
       "      <td>1800</td>\n",
       "      <td>7503</td>\n",
       "    </tr>\n",
       "  </tbody>\n",
       "</table>\n",
       "<p>5 rows × 21 columns</p>\n",
       "</div>"
      ],
      "text/plain": [
       "           id       date     price  bedrooms  bathrooms  sqft_living  \\\n",
       "0  7129300520 2014-10-13  221900.0         3       1.00         1180   \n",
       "1  6414100192 2014-12-09  538000.0         3       2.25         2570   \n",
       "2  5631500400 2015-02-25  180000.0         2       1.00          770   \n",
       "3  2487200875 2014-12-09  604000.0         4       3.00         1960   \n",
       "4  1954400510 2015-02-18  510000.0         3       2.00         1680   \n",
       "\n",
       "   sqft_lot  floors  waterfront  view  ...  grade  sqft_above  sqft_basement  \\\n",
       "0      5650     1.0           0     0  ...      7        1180              0   \n",
       "1      7242     2.0           0     0  ...      7        2170            400   \n",
       "2     10000     1.0           0     0  ...      6         770              0   \n",
       "3      5000     1.0           0     0  ...      7        1050            910   \n",
       "4      8080     1.0           0     0  ...      8        1680              0   \n",
       "\n",
       "   yr_built  yr_renovated  zipcode      lat     long  sqft_living15  \\\n",
       "0      1955             0    98178  47.5112 -122.257           1340   \n",
       "1      1951          1991    98125  47.7210 -122.319           1690   \n",
       "2      1933             0    98028  47.7379 -122.233           2720   \n",
       "3      1965             0    98136  47.5208 -122.393           1360   \n",
       "4      1987             0    98074  47.6168 -122.045           1800   \n",
       "\n",
       "   sqft_lot15  \n",
       "0        5650  \n",
       "1        7639  \n",
       "2        8062  \n",
       "3        5000  \n",
       "4        7503  \n",
       "\n",
       "[5 rows x 21 columns]"
      ]
     },
     "execution_count": 3,
     "metadata": {},
     "output_type": "execute_result"
    }
   ],
   "source": [
    "df.head()"
   ]
  },
  {
   "cell_type": "markdown",
   "metadata": {},
   "source": [
    "### 1. Crie uma nova coluna chamada \"house_age\".\n",
    "    - Se o valor da coluna \"date\" for maior que \"2014-01-01\" ==> \"new_house\"\n",
    "    - Se o valor da coluna \"date\" for menor que \"2014-01-01\" ==> \"old_house\""
   ]
  },
  {
   "cell_type": "code",
   "execution_count": 4,
   "metadata": {},
   "outputs": [],
   "source": [
    "df['house_age'] = df['date'].apply(lambda x: \"new_house\" if x >= pd.to_datetime(\"2014-01-01\", format='%Y-%m-%d') else \"old_house\")"
   ]
  },
  {
   "cell_type": "markdown",
   "metadata": {},
   "source": [
    "### 2. Crie uma nova coluna chamada \"dormitory_type\".\n",
    "    - Se o valor da coluna \"bedrooms\" for igual a 1 ==> \"studio\"\n",
    "    - Se o valor da coluna \"bedrooms\" for igual a 2 ==> \"apartment\"\n",
    "    - Se o valor da coluna \"bedrooms\" for maior que 2 ==> \"house\"\n"
   ]
  },
  {
   "cell_type": "code",
   "execution_count": 5,
   "metadata": {},
   "outputs": [],
   "source": [
    "def dormitory_type(x):\n",
    "    if x == 1:\n",
    "        return \"studio\"\n",
    "    elif x == 2:\n",
    "        return \"apartment\"\n",
    "    elif x > 2:\n",
    "        return \"house\"\n",
    "    else:\n",
    "        return \"NA\""
   ]
  },
  {
   "cell_type": "code",
   "execution_count": 6,
   "metadata": {},
   "outputs": [],
   "source": [
    "df['dormitory_type'] = df['bedrooms'].apply(dormitory_type)"
   ]
  },
  {
   "cell_type": "markdown",
   "metadata": {},
   "source": [
    "### 3. Crie uma nova coluna chamada \"condition_type\".\n",
    "    - Se o valor da coluna \"condition\" for menor igual 2 ==> \"bad\"\n",
    "    - Se o valor da coluna \"condition\" for igual a 3 ou 4 ==> \"regular\"\n",
    "    - Se o valor da coluna \"condition\" for maior que 5 ==> \"good\""
   ]
  },
  {
   "cell_type": "code",
   "execution_count": 7,
   "metadata": {},
   "outputs": [],
   "source": [
    "df['condition'] = df['condition'].astype( int )\n",
    "df['conditional_type'] = df['condition'].apply(lambda x: 'bad' if x <= 2 else 'regular' if (x == 3) | (x == 4) else 'good')"
   ]
  },
  {
   "cell_type": "code",
   "execution_count": 8,
   "metadata": {},
   "outputs": [
    {
     "data": {
      "text/plain": [
       "regular    19710\n",
       "good        1701\n",
       "bad          202\n",
       "Name: conditional_type, dtype: int64"
      ]
     },
     "execution_count": 8,
     "metadata": {},
     "output_type": "execute_result"
    }
   ],
   "source": [
    "df['conditional_type'].value_counts()"
   ]
  },
  {
   "cell_type": "markdown",
   "metadata": {},
   "source": [
    "### 4. Modifique o TIPO da coluna \"condition\" para \"STRING\"."
   ]
  },
  {
   "cell_type": "code",
   "execution_count": 9,
   "metadata": {},
   "outputs": [],
   "source": [
    "df[['id', 'condition']].dtypes\n",
    "df['condition'] = df['condition'].astype(str)"
   ]
  },
  {
   "cell_type": "markdown",
   "metadata": {},
   "source": [
    "### 5. Delete as colunas: \"sqft_living\" e \"sqft_lot15\"."
   ]
  },
  {
   "cell_type": "code",
   "execution_count": 10,
   "metadata": {},
   "outputs": [],
   "source": [
    "df.drop(columns=['sqft_living', 'sqft_lot15'], axis=1, inplace=True)"
   ]
  },
  {
   "cell_type": "markdown",
   "metadata": {},
   "source": [
    "### 6. Modifique o TIPO da coluna \"yr_built\" para DATE.\n"
   ]
  },
  {
   "cell_type": "code",
   "execution_count": 11,
   "metadata": {},
   "outputs": [],
   "source": [
    "df['yr_built'] = pd.to_datetime(df['yr_built'], format='%Y')"
   ]
  },
  {
   "cell_type": "markdown",
   "metadata": {},
   "source": [
    "### 7. Modifique o TIPO da coluna \"yr_renovate\" para DATE."
   ]
  },
  {
   "cell_type": "code",
   "execution_count": 12,
   "metadata": {},
   "outputs": [
    {
     "data": {
      "text/plain": [
       "0                      20699\n",
       "2014-01-01 00:00:00       91\n",
       "2013-01-01 00:00:00       37\n",
       "2003-01-01 00:00:00       36\n",
       "2005-01-01 00:00:00       35\n",
       "                       ...  \n",
       "1951-01-01 00:00:00        1\n",
       "1948-01-01 00:00:00        1\n",
       "1944-01-01 00:00:00        1\n",
       "1954-01-01 00:00:00        1\n",
       "1934-01-01 00:00:00        1\n",
       "Name: yr_renovated, Length: 70, dtype: int64"
      ]
     },
     "execution_count": 12,
     "metadata": {},
     "output_type": "execute_result"
    }
   ],
   "source": [
    "# df[\"yr_renovated\"] = df[\"yr_renovated\"].apply(lambda x: pd.DatetimeIndex(x).year if x > 0 else x)\n",
    "df[\"yr_renovated\"] = df[\"yr_renovated\"].apply(lambda x: pd.to_datetime(x, format='%Y') if x > 0 else x)\n",
    "df[\"yr_renovated\"].value_counts()"
   ]
  },
  {
   "cell_type": "markdown",
   "metadata": {},
   "source": [
    "### 8. Qual a data mais antiga de construção de um imóvel?"
   ]
  },
  {
   "cell_type": "code",
   "execution_count": 13,
   "metadata": {},
   "outputs": [
    {
     "name": "stdout",
     "output_type": "stream",
     "text": [
      "The oldest house is 1900 years old\n"
     ]
    }
   ],
   "source": [
    "min_date = df['yr_built'].min().year\n",
    "print('The oldest house is {} years old'.format(min_date))\n",
    "# df.sort_values('yr_built', ascending=True).head(3)"
   ]
  },
  {
   "cell_type": "markdown",
   "metadata": {},
   "source": [
    "### 9. Qual a data mais antiga de renovação de um imóvel?"
   ]
  },
  {
   "cell_type": "code",
   "execution_count": 14,
   "metadata": {},
   "outputs": [
    {
     "data": {
      "text/plain": [
       "1934"
      ]
     },
     "execution_count": 14,
     "metadata": {},
     "output_type": "execute_result"
    }
   ],
   "source": [
    "min_renovated = df[df['yr_renovated'] != 0]['yr_renovated']\n",
    "min_renovated = min_renovated.min().year\n",
    "min_renovated\n",
    "# print('The oldest renovated is {} years old'.format(str(min(min_renovated))))\n",
    "# df.sort_values('yr_renovated', ascending=True).head(3)"
   ]
  },
  {
   "cell_type": "markdown",
   "metadata": {},
   "source": [
    "### 10. Quantos imóveis tem 2 andares?\n"
   ]
  },
  {
   "cell_type": "code",
   "execution_count": 15,
   "metadata": {},
   "outputs": [
    {
     "name": "stdout",
     "output_type": "stream",
     "text": [
      "8241\n"
     ]
    }
   ],
   "source": [
    "print(len(df[df['floors'] == 2]))"
   ]
  },
  {
   "cell_type": "markdown",
   "metadata": {},
   "source": [
    "### 11. Quantos imóveis estão com a condição igual a \"regular\"?\n"
   ]
  },
  {
   "cell_type": "code",
   "execution_count": 16,
   "metadata": {},
   "outputs": [
    {
     "name": "stdout",
     "output_type": "stream",
     "text": [
      "19710\n"
     ]
    }
   ],
   "source": [
    "print(len(df[df['conditional_type'] == 'regular']))"
   ]
  },
  {
   "cell_type": "markdown",
   "metadata": {},
   "source": [
    "### 12. Quantos imóveis estão com a condição igual a \"bad\" e possuem \"vista para água\"?"
   ]
  },
  {
   "cell_type": "code",
   "execution_count": 17,
   "metadata": {},
   "outputs": [
    {
     "name": "stdout",
     "output_type": "stream",
     "text": [
      "2\n"
     ]
    }
   ],
   "source": [
    "print(len(df.loc[(df['conditional_type'] == \"bad\") & (df['waterfront'] == 1), 'id']))"
   ]
  },
  {
   "cell_type": "markdown",
   "metadata": {},
   "source": [
    "### 13. Quantos imóveis estão com a condição igual a \"good\" e são \"new_house\"?\n"
   ]
  },
  {
   "cell_type": "code",
   "execution_count": 18,
   "metadata": {},
   "outputs": [
    {
     "name": "stdout",
     "output_type": "stream",
     "text": [
      "1701\n"
     ]
    }
   ],
   "source": [
    "print(len(df.loc[(df['conditional_type'] == \"good\") & (df['house_age'] == 'new_house')]))"
   ]
  },
  {
   "cell_type": "markdown",
   "metadata": {},
   "source": [
    "### 14. Qual o valor do imóvel mais caro do tipo \"Studio\"?\n"
   ]
  },
  {
   "cell_type": "code",
   "execution_count": 19,
   "metadata": {},
   "outputs": [
    {
     "name": "stdout",
     "output_type": "stream",
     "text": [
      "1247000.0\n"
     ]
    }
   ],
   "source": [
    "print(df.loc[df['dormitory_type'] == 'studio', 'price'].max())"
   ]
  },
  {
   "cell_type": "markdown",
   "metadata": {},
   "source": [
    "### 15. Quantos imóveis do tipo \"apartment\" foram reformados em 2015?\n"
   ]
  },
  {
   "cell_type": "code",
   "execution_count": 20,
   "metadata": {},
   "outputs": [
    {
     "name": "stdout",
     "output_type": "stream",
     "text": [
      "Number of reformed house in 2015: 0\n"
     ]
    }
   ],
   "source": [
    "houses = df[(df['dormitory_type'] == \"apartment\") & (df['yr_renovated'] == 2015)].shape[0]\n",
    "print( \"Number of reformed house in 2015: {}\".format( houses ) )"
   ]
  },
  {
   "cell_type": "markdown",
   "metadata": {},
   "source": [
    "### 16. Qual o maior número de quartos que um imóvel do tipo \"house\" possui?\n"
   ]
  },
  {
   "cell_type": "code",
   "execution_count": 21,
   "metadata": {},
   "outputs": [
    {
     "name": "stdout",
     "output_type": "stream",
     "text": [
      "33\n"
     ]
    }
   ],
   "source": [
    "print(df.loc[df['dormitory_type'] == 'house', 'bedrooms'].max())"
   ]
  },
  {
   "cell_type": "markdown",
   "metadata": {},
   "source": [
    "### 17. Quantos imóveis \"new house\" foram reformados no ano de 2014?\n"
   ]
  },
  {
   "cell_type": "code",
   "execution_count": 22,
   "metadata": {},
   "outputs": [
    {
     "data": {
      "text/plain": [
       "91"
      ]
     },
     "execution_count": 22,
     "metadata": {},
     "output_type": "execute_result"
    }
   ],
   "source": [
    "df.loc[(df['house_age'] == 'new_house') & \n",
    "       (df['yr_renovated'] == pd.to_datetime('2014-01-01', format='%Y-%m-%d')), 'id'].size"
   ]
  },
  {
   "cell_type": "markdown",
   "metadata": {},
   "source": [
    "### 18. Selecione as colunas: \"id\", \"date\", \"price\", \"floors\", \"zipcode\" pelo método:\n",
    "    - Direto pelo nome das colunas\n",
    "    - Pelos índices\n",
    "    - Pelos índices das linhas e nome das colunas\n",
    "    - Pelos índices booleanos\n"
   ]
  },
  {
   "cell_type": "code",
   "execution_count": 23,
   "metadata": {},
   "outputs": [],
   "source": [
    "df1 = df[[\"id\", \"date\", \"price\", \"floors\", \"zipcode\"]]"
   ]
  },
  {
   "cell_type": "code",
   "execution_count": 24,
   "metadata": {},
   "outputs": [],
   "source": [
    "df2 = df.iloc[:, [0, 1, 2, 7, 16]]"
   ]
  },
  {
   "cell_type": "code",
   "execution_count": 25,
   "metadata": {},
   "outputs": [],
   "source": [
    "df3 = df.loc[:, [\"id\", \"date\", \"price\", \"floors\", \"zipcode\"]]"
   ]
  },
  {
   "cell_type": "markdown",
   "metadata": {},
   "source": [
    "### 19. Salve um arquivo .csv com somente as colunas do item 18\n"
   ]
  },
  {
   "cell_type": "code",
   "execution_count": 26,
   "metadata": {},
   "outputs": [],
   "source": [
    "df.to_csv('REPORT TESTE.csv', index=False, sep=';')"
   ]
  },
  {
   "cell_type": "markdown",
   "metadata": {},
   "source": [
    "### 20. Modifique a cor dos pontos no mapa de \"pink\" para \"black green\""
   ]
  },
  {
   "cell_type": "code",
   "execution_count": null,
   "metadata": {},
   "outputs": [],
   "source": []
  }
 ],
 "metadata": {
  "kernelspec": {
   "display_name": "Python 3.8 (XPython)",
   "language": "python",
   "name": "xpython"
  },
  "language_info": {
   "file_extension": ".py",
   "mimetype": "text/x-python",
   "name": "python",
   "version": "3.8.10"
  }
 },
 "nbformat": 4,
 "nbformat_minor": 4
}
