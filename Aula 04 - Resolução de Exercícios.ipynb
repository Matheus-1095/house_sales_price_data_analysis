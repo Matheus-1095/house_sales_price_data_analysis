{
 "cells": [
  {
   "cell_type": "markdown",
   "metadata": {},
   "source": [
    "# Exercícios Aula 04\n",
    "\n",
    "1. Qual a média do preço de compra dos imóveis por nível?\n",
    "    - Nível 0: Preço entre 0 a 321.950\n",
    "    - Nível 1: Preço entre 321.950 e 450.000\n",
    "    - Nível 2: Preço entre 450.000 e 645.000\n",
    "    - Nível 3: Preço acima de 645.000\n",
    "    \n",
    "    \n",
    "2. Qual a média do tamanho da sala de estar dos imóveis por \"Size\"?\n",
    "    - Size 0: Tamanho entre 0 a 1427 sqft\n",
    "    - Size 1: Tamanho entre 1427 e 1910\n",
    "    - Size 2: Tamanho entre 1910 e 2550\n",
    "    - Size 3: Tamanho acima de 2550\n",
    "    \n",
    "\n",
    "3. Adicione as seguintes informações ao conjuntos de dados original:\n",
    "    - Place ID: Identificação da localização\n",
    "    - OSM Type: Open Street Map type\n",
    "    - Country: Nome do País\n",
    "    - Country Code: Código do País\n",
    "\n",
    "\n",
    "4. Adicione os seguintes filtros no Mapa:\n",
    "    - Tamanho mínimo da área da sala de estar\n",
    "    - Número mínimo de banheiros\n",
    "    - Valor Máximo do Preço\n",
    "    - Tamanho máximo da área do porão\n",
    "    - Filtro das condições do Imóvel\n",
    "    - Filtro do Ano de Construção\n",
    "    \n",
    "    \n",
    "5. Adicione os seguintes filtros no Dashboard:\n",
    "    - Filtro por data disponível para compra\n",
    "    - Filtro por ano de renovação\n",
    "    - Filtro se possui vista para a água ou não"
   ]
  },
  {
   "cell_type": "markdown",
   "metadata": {},
   "source": [
    "## 0. Loading Data"
   ]
  },
  {
   "cell_type": "code",
   "execution_count": 60,
   "metadata": {
    "ExecuteTime": {
     "end_time": "2022-05-12T00:02:46.876473Z",
     "start_time": "2022-05-12T00:02:36.509270Z"
    }
   },
   "outputs": [],
   "source": [
    "# Carregando das bibliotecas\n",
    "import pandas as pd\n",
    "import numpy as np\n",
    "import seaborn as sns\n",
    "from matplotlib import pyplot as plt\n",
    "from matplotlib import gridspec\n",
    "import plotly\n",
    "import plotly.express as px\n",
    "import ipywidgets as widgets\n",
    "from ipywidgets import interact, interactive, fixed, interact_manual\n",
    "pd.set_option('display.float_format', lambda x: '%.2f ' % x)\n",
    "%matplotlib inline"
   ]
  },
  {
   "cell_type": "code",
   "execution_count": 3,
   "metadata": {
    "ExecuteTime": {
     "end_time": "2022-05-11T23:12:00.857306Z",
     "start_time": "2022-05-11T23:12:00.792234Z"
    }
   },
   "outputs": [
    {
     "data": {
      "text/html": [
       "<div>\n",
       "<style scoped>\n",
       "    .dataframe tbody tr th:only-of-type {\n",
       "        vertical-align: middle;\n",
       "    }\n",
       "\n",
       "    .dataframe tbody tr th {\n",
       "        vertical-align: top;\n",
       "    }\n",
       "\n",
       "    .dataframe thead th {\n",
       "        text-align: right;\n",
       "    }\n",
       "</style>\n",
       "<table border=\"1\" class=\"dataframe\">\n",
       "  <thead>\n",
       "    <tr style=\"text-align: right;\">\n",
       "      <th></th>\n",
       "      <th>id</th>\n",
       "      <th>date</th>\n",
       "      <th>price</th>\n",
       "      <th>bedrooms</th>\n",
       "      <th>bathrooms</th>\n",
       "      <th>sqft_living</th>\n",
       "      <th>sqft_lot</th>\n",
       "      <th>floors</th>\n",
       "      <th>waterfront</th>\n",
       "      <th>view</th>\n",
       "      <th>...</th>\n",
       "      <th>grade</th>\n",
       "      <th>sqft_above</th>\n",
       "      <th>sqft_basement</th>\n",
       "      <th>yr_built</th>\n",
       "      <th>yr_renovated</th>\n",
       "      <th>zipcode</th>\n",
       "      <th>lat</th>\n",
       "      <th>long</th>\n",
       "      <th>sqft_living15</th>\n",
       "      <th>sqft_lot15</th>\n",
       "    </tr>\n",
       "  </thead>\n",
       "  <tbody>\n",
       "    <tr>\n",
       "      <th>0</th>\n",
       "      <td>7129300520</td>\n",
       "      <td>2014-10-13</td>\n",
       "      <td>221900.00</td>\n",
       "      <td>3</td>\n",
       "      <td>1.00</td>\n",
       "      <td>1180</td>\n",
       "      <td>5650</td>\n",
       "      <td>1.00</td>\n",
       "      <td>0</td>\n",
       "      <td>0</td>\n",
       "      <td>...</td>\n",
       "      <td>7</td>\n",
       "      <td>1180</td>\n",
       "      <td>0</td>\n",
       "      <td>1955</td>\n",
       "      <td>0</td>\n",
       "      <td>98178</td>\n",
       "      <td>47.51</td>\n",
       "      <td>-122.26</td>\n",
       "      <td>1340</td>\n",
       "      <td>5650</td>\n",
       "    </tr>\n",
       "    <tr>\n",
       "      <th>1</th>\n",
       "      <td>6414100192</td>\n",
       "      <td>2014-12-09</td>\n",
       "      <td>538000.00</td>\n",
       "      <td>3</td>\n",
       "      <td>2.25</td>\n",
       "      <td>2570</td>\n",
       "      <td>7242</td>\n",
       "      <td>2.00</td>\n",
       "      <td>0</td>\n",
       "      <td>0</td>\n",
       "      <td>...</td>\n",
       "      <td>7</td>\n",
       "      <td>2170</td>\n",
       "      <td>400</td>\n",
       "      <td>1951</td>\n",
       "      <td>1991</td>\n",
       "      <td>98125</td>\n",
       "      <td>47.72</td>\n",
       "      <td>-122.32</td>\n",
       "      <td>1690</td>\n",
       "      <td>7639</td>\n",
       "    </tr>\n",
       "    <tr>\n",
       "      <th>2</th>\n",
       "      <td>5631500400</td>\n",
       "      <td>2015-02-25</td>\n",
       "      <td>180000.00</td>\n",
       "      <td>2</td>\n",
       "      <td>1.00</td>\n",
       "      <td>770</td>\n",
       "      <td>10000</td>\n",
       "      <td>1.00</td>\n",
       "      <td>0</td>\n",
       "      <td>0</td>\n",
       "      <td>...</td>\n",
       "      <td>6</td>\n",
       "      <td>770</td>\n",
       "      <td>0</td>\n",
       "      <td>1933</td>\n",
       "      <td>0</td>\n",
       "      <td>98028</td>\n",
       "      <td>47.74</td>\n",
       "      <td>-122.23</td>\n",
       "      <td>2720</td>\n",
       "      <td>8062</td>\n",
       "    </tr>\n",
       "    <tr>\n",
       "      <th>3</th>\n",
       "      <td>2487200875</td>\n",
       "      <td>2014-12-09</td>\n",
       "      <td>604000.00</td>\n",
       "      <td>4</td>\n",
       "      <td>3.00</td>\n",
       "      <td>1960</td>\n",
       "      <td>5000</td>\n",
       "      <td>1.00</td>\n",
       "      <td>0</td>\n",
       "      <td>0</td>\n",
       "      <td>...</td>\n",
       "      <td>7</td>\n",
       "      <td>1050</td>\n",
       "      <td>910</td>\n",
       "      <td>1965</td>\n",
       "      <td>0</td>\n",
       "      <td>98136</td>\n",
       "      <td>47.52</td>\n",
       "      <td>-122.39</td>\n",
       "      <td>1360</td>\n",
       "      <td>5000</td>\n",
       "    </tr>\n",
       "    <tr>\n",
       "      <th>4</th>\n",
       "      <td>1954400510</td>\n",
       "      <td>2015-02-18</td>\n",
       "      <td>510000.00</td>\n",
       "      <td>3</td>\n",
       "      <td>2.00</td>\n",
       "      <td>1680</td>\n",
       "      <td>8080</td>\n",
       "      <td>1.00</td>\n",
       "      <td>0</td>\n",
       "      <td>0</td>\n",
       "      <td>...</td>\n",
       "      <td>8</td>\n",
       "      <td>1680</td>\n",
       "      <td>0</td>\n",
       "      <td>1987</td>\n",
       "      <td>0</td>\n",
       "      <td>98074</td>\n",
       "      <td>47.62</td>\n",
       "      <td>-122.05</td>\n",
       "      <td>1800</td>\n",
       "      <td>7503</td>\n",
       "    </tr>\n",
       "  </tbody>\n",
       "</table>\n",
       "<p>5 rows × 21 columns</p>\n",
       "</div>"
      ],
      "text/plain": [
       "           id       date      price  bedrooms  bathrooms  sqft_living  \\\n",
       "0  7129300520 2014-10-13 221900.00          3      1.00          1180   \n",
       "1  6414100192 2014-12-09 538000.00          3      2.25          2570   \n",
       "2  5631500400 2015-02-25 180000.00          2      1.00           770   \n",
       "3  2487200875 2014-12-09 604000.00          4      3.00          1960   \n",
       "4  1954400510 2015-02-18 510000.00          3      2.00          1680   \n",
       "\n",
       "   sqft_lot  floors  waterfront  view  ...  grade  sqft_above  sqft_basement  \\\n",
       "0      5650   1.00            0     0  ...      7        1180              0   \n",
       "1      7242   2.00            0     0  ...      7        2170            400   \n",
       "2     10000   1.00            0     0  ...      6         770              0   \n",
       "3      5000   1.00            0     0  ...      7        1050            910   \n",
       "4      8080   1.00            0     0  ...      8        1680              0   \n",
       "\n",
       "   yr_built  yr_renovated  zipcode    lat     long  sqft_living15  sqft_lot15  \n",
       "0      1955             0    98178 47.51  -122.26            1340        5650  \n",
       "1      1951          1991    98125 47.72  -122.32            1690        7639  \n",
       "2      1933             0    98028 47.74  -122.23            2720        8062  \n",
       "3      1965             0    98136 47.52  -122.39            1360        5000  \n",
       "4      1987             0    98074 47.62  -122.05            1800        7503  \n",
       "\n",
       "[5 rows x 21 columns]"
      ]
     },
     "execution_count": 2,
     "metadata": {},
     "output_type": "execute_result"
    }
   ],
   "source": [
    "# Lendo o arquivo pelo read_csv\n",
    "df = pd.read_csv('kc_house_data.csv', low_memory=False, delimiter=',', quotechar='\"')\n",
    "df['date'] = pd.to_datetime(df['date'], format='%Y-%m-%d')\n",
    "df.head()"
   ]
  },
  {
   "cell_type": "markdown",
   "metadata": {},
   "source": [
    "## 1. Qual a média do preço de compra dos imóveis por nível?\n",
    "    - Nível 0: Preço entre 0 a 321.950\n",
    "    - Nível 1: Preço entre 321.950 e 450.000\n",
    "    - Nível 2: Preço entre 450.000 e 645.000\n",
    "    - Nível 3: Preço acima de 645.000"
   ]
  },
  {
   "cell_type": "code",
   "execution_count": 4,
   "metadata": {
    "ExecuteTime": {
     "end_time": "2022-05-11T23:12:00.891501Z",
     "start_time": "2022-05-11T23:12:00.857540Z"
    }
   },
   "outputs": [],
   "source": [
    "df['level'] = df['price'].apply(lambda x: 'Level 0' if x < 321950 else\n",
    "                                            'Level 1' if (x >= 321950) & (x < 450000) else\n",
    "                                               'Level 2' if (x >= 450000) and (x < 650000) else 'Level 3' )"
   ]
  },
  {
   "cell_type": "markdown",
   "metadata": {},
   "source": [
    "## 2. Qual a média do tamanho da sala de estar dos imóveis por \"Size\"?\n",
    "    - Size 0: Tamanho entre 0 a 1427 sqft\n",
    "    - Size 1: Tamanho entre 1427 e 1910\n",
    "    - Size 2: Tamanho entre 1910 e 2550\n",
    "    - Size 3: Tamanho acima de 2550\n"
   ]
  },
  {
   "cell_type": "code",
   "execution_count": 5,
   "metadata": {
    "ExecuteTime": {
     "end_time": "2022-05-11T23:12:01.626810Z",
     "start_time": "2022-05-11T23:12:00.891887Z"
    }
   },
   "outputs": [],
   "source": [
    "df['size'] = df['sqft_living'].apply(lambda x: 'Size 0' if x < 1427 else\n",
    "                                            'Size 1' if (x >= 1427) & (x < 1910) else\n",
    "                                               'Size 2' if (x >= 1910) and (x < 2550) else 'Size 3' )"
   ]
  },
  {
   "cell_type": "markdown",
   "metadata": {},
   "source": [
    "## 3. Adicione as seguintes informações ao conjuntos de dados original:\n",
    "    - Place ID: Identificação da localização\n",
    "    - OSM Type: Open Street Map type\n",
    "    - Country: Nome do País\n",
    "    - Country Code: Código do País\n"
   ]
  },
  {
   "cell_type": "code",
   "execution_count": 6,
   "metadata": {
    "ExecuteTime": {
     "end_time": "2022-05-11T23:12:02.771702Z",
     "start_time": "2022-05-11T23:12:01.63270Z"
    }
   },
   "outputs": [],
   "source": [
    "from geopy.geocoders import Nominatim\n",
    "\n",
    "geolocator = Nominatim(user_agent='geopyExercises')\n",
    "\n",
    "query = '47.5112, -122.257'\n",
    "response = geolocator.reverse(query)"
   ]
  },
  {
   "cell_type": "code",
   "execution_count": 7,
   "metadata": {
    "ExecuteTime": {
     "end_time": "2022-05-11T23:12:02.772617Z",
     "start_time": "2022-05-11T23:12:02.772008Z"
    }
   },
   "outputs": [],
   "source": [
    "import time\n",
    "from multiprocessing import Pool"
   ]
  },
  {
   "cell_type": "code",
   "execution_count": 8,
   "metadata": {
    "ExecuteTime": {
     "end_time": "2022-05-11T23:12:03.105243Z",
     "start_time": "2022-05-11T23:12:02.772932Z"
    }
   },
   "outputs": [],
   "source": [
    "df['query'] = df[['lat', 'long']].apply(lambda x: str(x['lat']) + ',' + str(x['long']), axis=1)"
   ]
  },
  {
   "cell_type": "code",
   "execution_count": 9,
   "metadata": {
    "ExecuteTime": {
     "end_time": "2022-05-11T23:12:03.106168Z",
     "start_time": "2022-05-11T23:12:03.105596Z"
    }
   },
   "outputs": [],
   "source": [
    "# import time\n",
    "# from geopy.geocoders import Nominatim\n",
    "\n",
    "# geolocator = Nominatim(user_agent='geopyExercises')\n",
    "\n",
    "# def get_data (x):\n",
    "#     index, row = x\n",
    "#     time.sleep(1)\n",
    "    \n",
    "#     # Chamada API\n",
    "#     response = geolocator.reverse(row['query'])\n",
    "#     address = response.raw['address']\n",
    "    \n",
    "#     place_id = response.raw['place_id'] if 'place_id' in response.raw else 'NA'\n",
    "#     osm_type = response.raw['osm_type'] if 'osm_type' in response.raw else 'NA'\n",
    "#     country = response.raw['address']['country'] if 'country' in address else 'NA'\n",
    "#     country_code = response.raw['address']['country_code'] if 'country_code' in address else 'NA'\n",
    "    \n",
    "#     return place_id, osm_type, country, country_code"
   ]
  },
  {
   "cell_type": "code",
   "execution_count": 11,
   "metadata": {
    "ExecuteTime": {
     "end_time": "2022-05-11T23:13:47.126642Z",
     "start_time": "2022-05-11T23:13:34.641424Z"
    }
   },
   "outputs": [
    {
     "name": "stdout",
     "output_type": "stream",
     "text": [
      "Time Elapsed: {} 0.015625\n"
     ]
    }
   ],
   "source": [
    "# Parallelism\n",
    "# Multi-Thread\n",
    "# Processo (Tarefa)\n",
    "# ---- Tarefa 01 (diferentes cores)\n",
    "# ---- Tarefa 02\n",
    "# ---- Tarefa 03\n",
    "\n",
    "import defs\n",
    "\n",
    "df1 = df[['id', 'query']].head(10)\n",
    "\n",
    "p = Pool(3)\n",
    "\n",
    "start = time.process_time()\n",
    "df1[['place id', 'osm_time', 'country', 'country_code']] = p.map(defs.get_data, df1.iterrows())\n",
    "end = time.process_time()\n",
    "\n",
    "print('Time Elapsed: {}', end - start)"
   ]
  },
  {
   "cell_type": "code",
   "execution_count": 12,
   "metadata": {
    "ExecuteTime": {
     "end_time": "2022-05-11T23:13:50.552499Z",
     "start_time": "2022-05-11T23:13:50.541295Z"
    }
   },
   "outputs": [
    {
     "data": {
      "text/html": [
       "<div>\n",
       "<style scoped>\n",
       "    .dataframe tbody tr th:only-of-type {\n",
       "        vertical-align: middle;\n",
       "    }\n",
       "\n",
       "    .dataframe tbody tr th {\n",
       "        vertical-align: top;\n",
       "    }\n",
       "\n",
       "    .dataframe thead th {\n",
       "        text-align: right;\n",
       "    }\n",
       "</style>\n",
       "<table border=\"1\" class=\"dataframe\">\n",
       "  <thead>\n",
       "    <tr style=\"text-align: right;\">\n",
       "      <th></th>\n",
       "      <th>id</th>\n",
       "      <th>query</th>\n",
       "      <th>place id</th>\n",
       "      <th>osm_time</th>\n",
       "      <th>country</th>\n",
       "      <th>country_code</th>\n",
       "    </tr>\n",
       "  </thead>\n",
       "  <tbody>\n",
       "    <tr>\n",
       "      <th>0</th>\n",
       "      <td>7129300520</td>\n",
       "      <td>47.5112,-122.257</td>\n",
       "      <td>161022547</td>\n",
       "      <td>way</td>\n",
       "      <td>United States</td>\n",
       "      <td>us</td>\n",
       "    </tr>\n",
       "    <tr>\n",
       "      <th>1</th>\n",
       "      <td>6414100192</td>\n",
       "      <td>47.721000000000004,-122.319</td>\n",
       "      <td>337363785</td>\n",
       "      <td>way</td>\n",
       "      <td>United States</td>\n",
       "      <td>us</td>\n",
       "    </tr>\n",
       "    <tr>\n",
       "      <th>2</th>\n",
       "      <td>5631500400</td>\n",
       "      <td>47.7379,-122.23299999999999</td>\n",
       "      <td>74951055</td>\n",
       "      <td>node</td>\n",
       "      <td>United States</td>\n",
       "      <td>us</td>\n",
       "    </tr>\n",
       "    <tr>\n",
       "      <th>3</th>\n",
       "      <td>2487200875</td>\n",
       "      <td>47.5208,-122.39299999999999</td>\n",
       "      <td>156726151</td>\n",
       "      <td>way</td>\n",
       "      <td>United States</td>\n",
       "      <td>us</td>\n",
       "    </tr>\n",
       "    <tr>\n",
       "      <th>4</th>\n",
       "      <td>1954400510</td>\n",
       "      <td>47.6168,-122.045</td>\n",
       "      <td>296045104</td>\n",
       "      <td>way</td>\n",
       "      <td>United States</td>\n",
       "      <td>us</td>\n",
       "    </tr>\n",
       "  </tbody>\n",
       "</table>\n",
       "</div>"
      ],
      "text/plain": [
       "           id                        query   place id osm_time        country  \\\n",
       "0  7129300520             47.5112,-122.257  161022547      way  United States   \n",
       "1  6414100192  47.721000000000004,-122.319  337363785      way  United States   \n",
       "2  5631500400  47.7379,-122.23299999999999   74951055     node  United States   \n",
       "3  2487200875  47.5208,-122.39299999999999  156726151      way  United States   \n",
       "4  1954400510             47.6168,-122.045  296045104      way  United States   \n",
       "\n",
       "  country_code  \n",
       "0           us  \n",
       "1           us  \n",
       "2           us  \n",
       "3           us  \n",
       "4           us  "
      ]
     },
     "execution_count": 11,
     "metadata": {},
     "output_type": "execute_result"
    }
   ],
   "source": [
    "df1.head()"
   ]
  },
  {
   "cell_type": "markdown",
   "metadata": {},
   "source": [
    "## 4. Adicione os seguintes filtros no Mapa:\n",
    "    - Tamanho mínimo da área da sala de estar\n",
    "    - Número mínimo de banheiros\n",
    "    - Valor Máximo do Preço\n",
    "    - Tamanho máximo da área do porão\n",
    "    - Filtro das condições do Imóvel\n",
    "    - Filtro do Ano de Construção"
   ]
  },
  {
   "cell_type": "code",
   "execution_count": 13,
   "metadata": {
    "ExecuteTime": {
     "end_time": "2022-05-11T23:14:37.281330Z",
     "start_time": "2022-05-11T23:14:37.279741Z"
    }
   },
   "outputs": [
    {
     "data": {
      "text/plain": [
       "Index(['id', 'date', 'price', 'bedrooms', 'bathrooms', 'sqft_living',\n",
       "       'sqft_lot', 'floors', 'waterfront', 'view', 'condition', 'grade',\n",
       "       'sqft_above', 'sqft_basement', 'yr_built', 'yr_renovated', 'zipcode',\n",
       "       'lat', 'long', 'sqft_living15', 'sqft_lot15', 'level', 'size', 'query'],\n",
       "      dtype='object')"
      ]
     },
     "execution_count": 12,
     "metadata": {},
     "output_type": "execute_result"
    }
   ],
   "source": [
    "df.columns"
   ]
  },
  {
   "cell_type": "code",
   "execution_count": 29,
   "metadata": {
    "ExecuteTime": {
     "end_time": "2022-05-11T23:29:09.475194Z",
     "start_time": "2022-05-11T23:29:09.440314Z"
    }
   },
   "outputs": [],
   "source": [
    "df['is_waterfront'] = df['waterfront'].apply(lambda x: 'yes' if x == 1 else 'no')\n",
    "\n",
    "\n",
    "\n",
    "# Define interactive buttons\n",
    "price_limit = widgets.IntSlider(\n",
    "            value = int(df['price'].mean()),\n",
    "            min = int(df['price'].min()),\n",
    "            max = int(df['price'].max()),\n",
    "            step = 1,\n",
    "            description = 'Maximum Price',\n",
    "            disable = False,\n",
    "            style={'description_width':'initial'})\n",
    "\n",
    "waterfront_bar = widgets.Dropdown(\n",
    "            options = df['is_waterfront'].unique().tolist(),\n",
    "            value = 'yes',\n",
    "            description = 'Water View',\n",
    "            disable=False)\n",
    "\n",
    "\n",
    "living_room_limit = widgets.IntSlider(\n",
    "            value = df['sqft_living'].mean(),\n",
    "            min = df['sqft_living'].min(),\n",
    "            max = df['sqft_living'].max(),\n",
    "            step = 1,\n",
    "            description = 'Minimum Square Feet',\n",
    "            disable = False,\n",
    "            style={'description_width':'initial'})\n",
    "\n",
    "\n",
    "bath_room_limit = widgets.IntSlider(\n",
    "            value = df['bathrooms'].mean(),\n",
    "            min = df['bathrooms'].min(),\n",
    "            max = df['bathrooms'].max(),\n",
    "            step = 1,\n",
    "            description = 'Bathrooms Room Values',\n",
    "            disable = False,\n",
    "            style={'description_width':'initial'})\n",
    "\n",
    "\n",
    "basement_limit = widgets.IntSlider(\n",
    "            value = df['sqft_basement'].mean(),\n",
    "            min = df['sqft_basement'].min(),\n",
    "            max = df['sqft_basement'].max(),\n",
    "            step = 1,\n",
    "            description = 'Maximum Basement ',\n",
    "            disable = False,\n",
    "            style={'description_width':'initial'})\n",
    "\n",
    "\n",
    "condition_limit = widgets.IntSlider(\n",
    "            value = df['condition'].mean(),\n",
    "            min = df['condition'].min(),\n",
    "            max = df['condition'].max(),\n",
    "            step = 1,\n",
    "            description = 'House Condition',\n",
    "            disable = False,\n",
    "            style={'description_width':'initial'})\n",
    "\n",
    "\n",
    "yrbuilt_limit = widgets.IntSlider(\n",
    "            value = df['yr_built'].mean(),\n",
    "            min = df['yr_built'].min(),\n",
    "            max = df['yr_built'].max(),\n",
    "            step = 1,\n",
    "            description = 'Year Built',\n",
    "            disable = False,\n",
    "            style={'description_width':'initial'})"
   ]
  },
  {
   "cell_type": "code",
   "execution_count": 50,
   "metadata": {
    "ExecuteTime": {
     "end_time": "2022-05-11T23:58:32.491593Z",
     "start_time": "2022-05-11T23:58:32.489094Z"
    }
   },
   "outputs": [],
   "source": [
    "def update_map(data, price_limit, waterfront_bar, living_room_limit, bath_room_limit, basement_limit, condition_limit, yrbuilt_limit):\n",
    "    # Filter Data\n",
    "    houses = data[(data['price'] <= price_limit) & \n",
    "                (data['sqft_living'] >= living_room_limit) & \n",
    "                (data['bathrooms'] >= bath_room_limit) &\n",
    "                (data['sqft_basement'] >= basement_limit) &\n",
    "                (data['sqft_basement'] >= condition_limit) &\n",
    "                (data['is_waterfront'] == waterfront_bar) &\n",
    "                (data['yr_built'] >= yrbuilt_limit)][['id', 'lat', 'long', 'price', 'sqft_living']].copy()\n",
    "    \n",
    "    # Plot Map\n",
    "    fig = px.scatter_mapbox(houses,\n",
    "                            lat='lat',\n",
    "                            lon='long',\n",
    "                            size='sqft_living',\n",
    "                            color='price',\n",
    "                            color_continuous_scale=px.colors.cyclical.IceFire,\n",
    "                            size_max=15,\n",
    "                            zoom=10)\n",
    "    \n",
    "    fig.update_layout(mapbox_style='open-street-map')\n",
    "    fig.update_layout(height=600, margin={'r':0, 'l':0, 't':0, 'b':0})\n",
    "    fig.show()"
   ]
  },
  {
   "cell_type": "code",
   "execution_count": 51,
   "metadata": {
    "ExecuteTime": {
     "end_time": "2022-05-11T23:58:34.417070Z",
     "start_time": "2022-05-11T23:58:33.972935Z"
    }
   },
   "outputs": [
    {
     "data": {
      "application/vnd.jupyter.widget-view+json": {
       "model_id": "d40cc77f1c364682897da1ba57179355",
       "version_major": 2,
       "version_minor": 0
      },
      "text/plain": [
       "interactive(children=(IntSlider(value=540088, description='Maximum Price', max=7700000, min=75000, style=Slide…"
      ]
     },
     "metadata": {},
     "output_type": "display_data"
    }
   ],
   "source": [
    "widgets.interactive(update_map, \n",
    "                    data=fixed(df), \n",
    "                    price_limit=price_limit, \n",
    "                    waterfront_bar=waterfront_bar,\n",
    "                    living_room_limit=living_room_limit,\n",
    "                    bath_room_limit=bath_room_limit,\n",
    "                    basement_limit=basement_limit,\n",
    "                    condition_limit=condition_limit,\n",
    "                    yrbuilt_limit=yrbuilt_limit)"
   ]
  },
  {
   "cell_type": "markdown",
   "metadata": {},
   "source": [
    "## 5. Adicione os seguintes filtros no Dashboard:\n",
    "    - Filtro por data disponível para compra\n",
    "    - Filtro por ano de renovação\n",
    "    - Filtro se possui vista para a água ou não"
   ]
  },
  {
   "cell_type": "code",
   "execution_count": 93,
   "metadata": {
    "ExecuteTime": {
     "end_time": "2022-05-12T00:51:17.813745Z",
     "start_time": "2022-05-12T00:51:17.288905Z"
    }
   },
   "outputs": [],
   "source": [
    "#.format\n",
    "data = pd.read_csv('kc_house_data.csv', low_memory=False, delimiter=',', quotechar='\"')\n",
    "\n",
    "data['year'] = pd.to_datetime(data['date']).dt.strftime('%Y')\n",
    "data['date'] = pd.to_datetime(data['date']).dt.strftime('%Y-%m-%d')\n",
    "data['year_week']  = pd.to_datetime(data['date']).dt.strftime('%Y-%U')\n",
    "#data['is_waterfront'] = data['waterfront'].apply(lambda x: 'yes' if x == 1 else 'no')\n",
    "\n",
    "# -----\n",
    "# Filtering\n",
    "# -----\n",
    "date_limit = widgets.SelectionSlider(\n",
    "            options=data['date'].sort_values().unique().tolist(),\n",
    "            value='2014-12-01',\n",
    "            description = 'Max Available Date',\n",
    "            disable = False,\n",
    "            continuous_update=False,\n",
    "            orientation = 'horizontal',\n",
    "            style={'description_width':'initial'},\n",
    "            redout=True)\n",
    "\n",
    "yr_renovated_limit = widgets.SelectionSlider(\n",
    "            options=data['yr_renovated'].sort_values().unique().tolist(),\n",
    "            value=2000,\n",
    "            description = 'Max Year',\n",
    "            disable = False,\n",
    "            continuous_update=False,\n",
    "            orientation = 'horizontal',\n",
    "            style={'description_width':'initial'},\n",
    "            redout=True)\n",
    "\n",
    "\n",
    "waterfront_filter = widgets.Checkbox(\n",
    "            value=False,\n",
    "            description = 'Is waterfront?',\n",
    "            disable = False,\n",
    "            ident=False)"
   ]
  },
  {
   "cell_type": "code",
   "execution_count": 94,
   "metadata": {
    "ExecuteTime": {
     "end_time": "2022-05-12T00:51:19.207889Z",
     "start_time": "2022-05-12T00:51:19.204194Z"
    }
   },
   "outputs": [],
   "source": [
    "def update_map(data, datelimit, yr_renovated_limit, waterfront_filter):\n",
    "    # Filtering data_plot\n",
    "    df = data[(data['date'] <= datelimit) & \n",
    "                (data['yr_renovated'] >= yr_renovated_limit) & \n",
    "                (data['waterfront'] == waterfront_filter)].copy()\n",
    "\n",
    "    # Plot Map\n",
    "    fig = plt.figure(figsize=(24, 12))\n",
    "    specs = gridspec.GridSpec(ncols=2, nrows=2, figure=fig)\n",
    "    \n",
    "    ax1 = fig.add_subplot(specs[0, :])\n",
    "    ax2 = fig.add_subplot(specs[1, 0])\n",
    "    ax3 = fig.add_subplot(specs[1, 1])\n",
    "    \n",
    "    by_year = df[['price', 'year']].groupby('year').sum().reset_index()\n",
    "    sns.barplot(x='year', y='price', data=by_year, ax=ax1)\n",
    "    \n",
    "    by_day = df[['price', 'date']].groupby('date').mean().reset_index()\n",
    "    sns.lineplot(x='date', y='price', data=by_day, ax=ax2)\n",
    "    plt.xticks(rotation=90);\n",
    "    \n",
    "    by_year_week = df[['price', 'year_week']].groupby('year_week').mean().reset_index()\n",
    "    sns.barplot(x='year_week', y='price', data=by_year_week, ax=ax3)\n",
    "    plt.xticks(rotation=90);"
   ]
  },
  {
   "cell_type": "code",
   "execution_count": 95,
   "metadata": {
    "ExecuteTime": {
     "end_time": "2022-05-12T00:51:25.514944Z",
     "start_time": "2022-05-12T00:51:20.567304Z"
    },
    "scrolled": false
   },
   "outputs": [
    {
     "data": {
      "application/vnd.jupyter.widget-view+json": {
       "model_id": "a41728f25ade499a97714c94fc2645ec",
       "version_major": 2,
       "version_minor": 0
      },
      "text/plain": [
       "interactive(children=(SelectionSlider(continuous_update=False, description='Max Available Date', index=212, op…"
      ]
     },
     "metadata": {},
     "output_type": "display_data"
    },
    {
     "data": {
      "image/png": "[encoded data removed]",
      "text/plain": [
       "<Figure size 1728x864 with 3 Axes>"
      ]
     },
     "metadata": {
      "needs_background": "light"
     },
     "output_type": "display_data"
    }
   ],
   "source": [
    "widgets.interactive(update_map,\n",
    "                    data = fixed(data),\n",
    "                    datelimit = date_limit,\n",
    "                    yr_renovated_limit = yr_renovated_limit,\n",
    "                    waterfront_filter = waterfront_filter)"
   ]
  }
 ],
 "metadata": {
  "kernelspec": {
   "display_name": "Python 3 (ipykernel)",
   "language": "python",
   "name": "python3"
  },
  "language_info": {
   "codemirror_mode": {
    "name": "ipython",
    "version": 3
   },
   "file_extension": ".py",
   "mimetype": "text/x-python",
   "name": "python",
   "nbconvert_exporter": "python",
   "pygments_lexer": "ipython3",
   "version": "3.8.13"
  }
 },
 "nbformat": 4,
 "nbformat_minor": 4
}
